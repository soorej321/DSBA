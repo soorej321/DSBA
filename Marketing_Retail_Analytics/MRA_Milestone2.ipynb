{
 "cells": [
  {
   "cell_type": "markdown",
   "id": "ef249e41",
   "metadata": {},
   "source": [
    "### Import the necessary libraries for MRA - Milestone 2 project."
   ]
  },
  {
   "cell_type": "code",
   "execution_count": 1,
   "id": "891e3496",
   "metadata": {},
   "outputs": [],
   "source": [
    "import pandas as pd\n",
    "import numpy as np\n",
    "import matplotlib.pyplot as plt\n",
    "import seaborn as sns\n",
    "from scipy.stats import shapiro \n",
    "sns.set_palette('deep')\n",
    "sns.set(color_codes='True')"
   ]
  },
  {
   "cell_type": "markdown",
   "id": "62acbf8f",
   "metadata": {},
   "source": [
    "# Problem 1\n",
    "\n",
    "## A Grocery Store shared the transactional data with you. Your job is to identify the most popular combos that can be suggested to the Grocery Store chain after a thorough analysis of the most commonly occurring sets of menu items in the customer orders. The Store doesn’t have any combo meals. Can you suggest the best combo meals?\n",
    "\n",
    "\n",
    "## Determine executive summary of data"
   ]
  },
  {
   "cell_type": "code",
   "execution_count": 2,
   "id": "1576954c",
   "metadata": {
    "scrolled": true
   },
   "outputs": [
    {
     "data": {
      "text/html": [
       "<div>\n",
       "<style scoped>\n",
       "    .dataframe tbody tr th:only-of-type {\n",
       "        vertical-align: middle;\n",
       "    }\n",
       "\n",
       "    .dataframe tbody tr th {\n",
       "        vertical-align: top;\n",
       "    }\n",
       "\n",
       "    .dataframe thead th {\n",
       "        text-align: right;\n",
       "    }\n",
       "</style>\n",
       "<table border=\"1\" class=\"dataframe\">\n",
       "  <thead>\n",
       "    <tr style=\"text-align: right;\">\n",
       "      <th></th>\n",
       "      <th>Date</th>\n",
       "      <th>Order_id</th>\n",
       "      <th>Product</th>\n",
       "    </tr>\n",
       "  </thead>\n",
       "  <tbody>\n",
       "    <tr>\n",
       "      <th>0</th>\n",
       "      <td>2018-01-01</td>\n",
       "      <td>1</td>\n",
       "      <td>yogurt</td>\n",
       "    </tr>\n",
       "    <tr>\n",
       "      <th>1</th>\n",
       "      <td>2018-01-01</td>\n",
       "      <td>1</td>\n",
       "      <td>pork</td>\n",
       "    </tr>\n",
       "    <tr>\n",
       "      <th>2</th>\n",
       "      <td>2018-01-01</td>\n",
       "      <td>1</td>\n",
       "      <td>sandwich bags</td>\n",
       "    </tr>\n",
       "    <tr>\n",
       "      <th>3</th>\n",
       "      <td>2018-01-01</td>\n",
       "      <td>1</td>\n",
       "      <td>lunch meat</td>\n",
       "    </tr>\n",
       "    <tr>\n",
       "      <th>4</th>\n",
       "      <td>2018-01-01</td>\n",
       "      <td>1</td>\n",
       "      <td>all- purpose</td>\n",
       "    </tr>\n",
       "  </tbody>\n",
       "</table>\n",
       "</div>"
      ],
      "text/plain": [
       "        Date  Order_id        Product\n",
       "0 2018-01-01         1         yogurt\n",
       "1 2018-01-01         1           pork\n",
       "2 2018-01-01         1  sandwich bags\n",
       "3 2018-01-01         1     lunch meat\n",
       "4 2018-01-01         1   all- purpose"
      ]
     },
     "execution_count": 2,
     "metadata": {},
     "output_type": "execute_result"
    }
   ],
   "source": [
    "#import the dataset and check first 5 records\n",
    "df = pd.read_csv('MRA2_dataset.csv',parse_dates=[0])\n",
    "df.head()"
   ]
  },
  {
   "cell_type": "code",
   "execution_count": 3,
   "id": "614766aa",
   "metadata": {},
   "outputs": [
    {
     "data": {
      "text/html": [
       "<div>\n",
       "<style scoped>\n",
       "    .dataframe tbody tr th:only-of-type {\n",
       "        vertical-align: middle;\n",
       "    }\n",
       "\n",
       "    .dataframe tbody tr th {\n",
       "        vertical-align: top;\n",
       "    }\n",
       "\n",
       "    .dataframe thead th {\n",
       "        text-align: right;\n",
       "    }\n",
       "</style>\n",
       "<table border=\"1\" class=\"dataframe\">\n",
       "  <thead>\n",
       "    <tr style=\"text-align: right;\">\n",
       "      <th></th>\n",
       "      <th>Date</th>\n",
       "      <th>Order_id</th>\n",
       "      <th>Product</th>\n",
       "    </tr>\n",
       "  </thead>\n",
       "  <tbody>\n",
       "    <tr>\n",
       "      <th>20636</th>\n",
       "      <td>2020-02-25</td>\n",
       "      <td>1138</td>\n",
       "      <td>soda</td>\n",
       "    </tr>\n",
       "    <tr>\n",
       "      <th>20637</th>\n",
       "      <td>2020-02-25</td>\n",
       "      <td>1138</td>\n",
       "      <td>paper towels</td>\n",
       "    </tr>\n",
       "    <tr>\n",
       "      <th>20638</th>\n",
       "      <td>2020-02-26</td>\n",
       "      <td>1139</td>\n",
       "      <td>soda</td>\n",
       "    </tr>\n",
       "    <tr>\n",
       "      <th>20639</th>\n",
       "      <td>2020-02-26</td>\n",
       "      <td>1139</td>\n",
       "      <td>laundry detergent</td>\n",
       "    </tr>\n",
       "    <tr>\n",
       "      <th>20640</th>\n",
       "      <td>2020-02-26</td>\n",
       "      <td>1139</td>\n",
       "      <td>shampoo</td>\n",
       "    </tr>\n",
       "  </tbody>\n",
       "</table>\n",
       "</div>"
      ],
      "text/plain": [
       "            Date  Order_id            Product\n",
       "20636 2020-02-25      1138               soda\n",
       "20637 2020-02-25      1138       paper towels\n",
       "20638 2020-02-26      1139               soda\n",
       "20639 2020-02-26      1139  laundry detergent\n",
       "20640 2020-02-26      1139            shampoo"
      ]
     },
     "execution_count": 3,
     "metadata": {},
     "output_type": "execute_result"
    }
   ],
   "source": [
    "# check last 5 records\n",
    "df.tail()"
   ]
  },
  {
   "cell_type": "code",
   "execution_count": 4,
   "id": "8303a1a0",
   "metadata": {},
   "outputs": [
    {
     "data": {
      "text/plain": [
       "(20641, 3)"
      ]
     },
     "execution_count": 4,
     "metadata": {},
     "output_type": "execute_result"
    }
   ],
   "source": [
    "#Shape of the dataset\n",
    "df.shape"
   ]
  },
  {
   "cell_type": "code",
   "execution_count": 5,
   "id": "03e64c5e",
   "metadata": {
    "scrolled": true
   },
   "outputs": [
    {
     "name": "stdout",
     "output_type": "stream",
     "text": [
      "Number of null values: 0\n"
     ]
    }
   ],
   "source": [
    "# Check for null values\n",
    "print('Number of null values: {}'.format(df.isnull().sum().sum()))"
   ]
  },
  {
   "cell_type": "code",
   "execution_count": 6,
   "id": "b7c58c04",
   "metadata": {},
   "outputs": [
    {
     "name": "stdout",
     "output_type": "stream",
     "text": [
      "Number of duplicate rows: 4730\n"
     ]
    }
   ],
   "source": [
    "# Check for duplicates\n",
    "print('Number of duplicate rows: {}'.format(df.duplicated().sum()))"
   ]
  },
  {
   "cell_type": "code",
   "execution_count": 7,
   "id": "c3f32ebc",
   "metadata": {},
   "outputs": [
    {
     "name": "stdout",
     "output_type": "stream",
     "text": [
      "<class 'pandas.core.frame.DataFrame'>\n",
      "RangeIndex: 20641 entries, 0 to 20640\n",
      "Data columns (total 3 columns):\n",
      " #   Column    Non-Null Count  Dtype         \n",
      "---  ------    --------------  -----         \n",
      " 0   Date      20641 non-null  datetime64[ns]\n",
      " 1   Order_id  20641 non-null  int64         \n",
      " 2   Product   20641 non-null  object        \n",
      "dtypes: datetime64[ns](1), int64(1), object(1)\n",
      "memory usage: 483.9+ KB\n"
     ]
    }
   ],
   "source": [
    "# concise data summary\n",
    "df.info()"
   ]
  },
  {
   "cell_type": "code",
   "execution_count": 10,
   "id": "4527cdc7",
   "metadata": {},
   "outputs": [
    {
     "name": "stderr",
     "output_type": "stream",
     "text": [
      "<ipython-input-10-0dd56a246831>:1: FutureWarning: Treating datetime data as categorical rather than numeric in `.describe` is deprecated and will be removed in a future version of pandas. Specify `datetime_is_numeric=True` to silence this warning and adopt the future behavior now.\n",
      "  df.describe(include='all').T\n"
     ]
    },
    {
     "data": {
      "text/html": [
       "<div>\n",
       "<style scoped>\n",
       "    .dataframe tbody tr th:only-of-type {\n",
       "        vertical-align: middle;\n",
       "    }\n",
       "\n",
       "    .dataframe tbody tr th {\n",
       "        vertical-align: top;\n",
       "    }\n",
       "\n",
       "    .dataframe thead th {\n",
       "        text-align: right;\n",
       "    }\n",
       "</style>\n",
       "<table border=\"1\" class=\"dataframe\">\n",
       "  <thead>\n",
       "    <tr style=\"text-align: right;\">\n",
       "      <th></th>\n",
       "      <th>count</th>\n",
       "      <th>unique</th>\n",
       "      <th>top</th>\n",
       "      <th>freq</th>\n",
       "      <th>first</th>\n",
       "      <th>last</th>\n",
       "      <th>mean</th>\n",
       "      <th>std</th>\n",
       "      <th>min</th>\n",
       "      <th>25%</th>\n",
       "      <th>50%</th>\n",
       "      <th>75%</th>\n",
       "      <th>max</th>\n",
       "    </tr>\n",
       "  </thead>\n",
       "  <tbody>\n",
       "    <tr>\n",
       "      <th>Date</th>\n",
       "      <td>20641</td>\n",
       "      <td>603</td>\n",
       "      <td>2019-08-02 00:00:00</td>\n",
       "      <td>183</td>\n",
       "      <td>2018-01-01</td>\n",
       "      <td>2020-12-02</td>\n",
       "      <td>NaN</td>\n",
       "      <td>NaN</td>\n",
       "      <td>NaN</td>\n",
       "      <td>NaN</td>\n",
       "      <td>NaN</td>\n",
       "      <td>NaN</td>\n",
       "      <td>NaN</td>\n",
       "    </tr>\n",
       "    <tr>\n",
       "      <th>Order_id</th>\n",
       "      <td>20641.0</td>\n",
       "      <td>NaN</td>\n",
       "      <td>NaN</td>\n",
       "      <td>NaN</td>\n",
       "      <td>NaT</td>\n",
       "      <td>NaT</td>\n",
       "      <td>575.986289</td>\n",
       "      <td>328.557078</td>\n",
       "      <td>1.0</td>\n",
       "      <td>292.0</td>\n",
       "      <td>581.0</td>\n",
       "      <td>862.0</td>\n",
       "      <td>1139.0</td>\n",
       "    </tr>\n",
       "    <tr>\n",
       "      <th>Product</th>\n",
       "      <td>20641</td>\n",
       "      <td>37</td>\n",
       "      <td>poultry</td>\n",
       "      <td>640</td>\n",
       "      <td>NaT</td>\n",
       "      <td>NaT</td>\n",
       "      <td>NaN</td>\n",
       "      <td>NaN</td>\n",
       "      <td>NaN</td>\n",
       "      <td>NaN</td>\n",
       "      <td>NaN</td>\n",
       "      <td>NaN</td>\n",
       "      <td>NaN</td>\n",
       "    </tr>\n",
       "  </tbody>\n",
       "</table>\n",
       "</div>"
      ],
      "text/plain": [
       "            count unique                  top freq      first       last  \\\n",
       "Date        20641    603  2019-08-02 00:00:00  183 2018-01-01 2020-12-02   \n",
       "Order_id  20641.0    NaN                  NaN  NaN        NaT        NaT   \n",
       "Product     20641     37              poultry  640        NaT        NaT   \n",
       "\n",
       "                mean         std  min    25%    50%    75%     max  \n",
       "Date             NaN         NaN  NaN    NaN    NaN    NaN     NaN  \n",
       "Order_id  575.986289  328.557078  1.0  292.0  581.0  862.0  1139.0  \n",
       "Product          NaN         NaN  NaN    NaN    NaN    NaN     NaN  "
      ]
     },
     "execution_count": 10,
     "metadata": {},
     "output_type": "execute_result"
    }
   ],
   "source": [
    "df.describe(include='all').T"
   ]
  }
 ],
 "metadata": {
  "kernelspec": {
   "display_name": "Python 3",
   "language": "python",
   "name": "python3"
  },
  "language_info": {
   "codemirror_mode": {
    "name": "ipython",
    "version": 3
   },
   "file_extension": ".py",
   "mimetype": "text/x-python",
   "name": "python",
   "nbconvert_exporter": "python",
   "pygments_lexer": "ipython3",
   "version": "3.8.10"
  }
 },
 "nbformat": 4,
 "nbformat_minor": 5
}
